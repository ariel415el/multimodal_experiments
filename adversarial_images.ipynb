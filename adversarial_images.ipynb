{
 "cells": [
  {
   "cell_type": "code",
   "id": "initial_id",
   "metadata": {
    "collapsed": true,
    "pycharm": {
     "name": "#%%\n",
     "is_executing": true
    },
    "ExecuteTime": {
     "end_time": "2024-07-18T14:04:05.222775Z",
     "start_time": "2024-07-18T14:04:05.220045Z"
    }
   },
   "source": [
    "import os\n",
    "import open_clip\n",
    "import torch\n",
    "import numpy as np\n",
    "from matplotlib import pyplot as plt\n",
    "\n",
    "from dimensionality_recuction import pca\n",
    "from utils import get_dataset, get_clip_features\n",
    "from classify_images import ClipClassifier"
   ],
   "outputs": [],
   "execution_count": 60
  },
  {
   "metadata": {
    "pycharm": {
     "name": "#%%\n"
    },
    "ExecuteTime": {
     "end_time": "2024-07-18T14:04:11.886082Z",
     "start_time": "2024-07-18T14:04:05.226337Z"
    }
   },
   "cell_type": "code",
   "source": [
    "# @title settings\n",
    "device = torch.device(\"cuda\" if torch.cuda.is_available() else \"cpu\")\n",
    "# model_name = 'ViT-B-32'\n",
    "# pretrained_datset = 'laion2b_s34b_b79k'\n",
    "model_name = 'RN50'\n",
    "pretrained_datset = 'openai'\n",
    "\n",
    "dataset_name = \"STL10\"\n",
    "outputs_dir = os.path.join(\"outputs\", f\"{model_name}({pretrained_datset})\")\n",
    "\n",
    "# Load_model\n",
    "model, _, preprocess = open_clip.create_model_and_transforms(model_name, pretrained=pretrained_datset, device=device, cache_dir='/mnt/storage_ssd/big_files')\n",
    "model.preprocess = preprocess\n",
    "\n",
    "dataset, label_map = get_dataset(dataset_name, model.preprocess, data_root='/mnt/storage_ssd/datasets')\n",
    "\n",
    "# Limit data to cats and dogs\n",
    "subset_names = ['dog', 'cat']\n",
    "subset_idx = [dataset.classes.index(x) for x in subset_names]\n",
    "dataset.classes = subset_names\n",
    "indices = np.logical_or(*[dataset.labels == x for x in subset_idx])\n",
    "dataset.data = dataset.data[indices]\n",
    "dataset.labels = dataset.labels[indices]\n",
    "for new_idx, old_idx in enumerate(subset_idx):\n",
    "    dataset.labels[dataset.labels == old_idx] = new_idx\n",
    "\n",
    "classifier = ClipClassifier(model, dataset)\n",
    "\n",
    "# Extract CLIP features\n",
    "text_features, image_features, labels = get_clip_features(model, dataset, label_map, device,\n",
    "                                                          os.path.join(outputs_dir, f\"{dataset_name}_features\"))\n",
    "\n",
    "# PCA\n",
    "PCs, eigv, mean = pca(np.concatenate((text_features, image_features)))\n",
    "PCs, mean = torch.from_numpy(PCs), torch.from_numpy(mean)\n",
    "text_pcs = (text_features - mean) @ PCs\n",
    "image_pcs = (image_features - mean) @ PCs\n",
    "# label_pcs = np.dot(classifier.label_features.cpu().numpy() - mean, PCs)"
   ],
   "id": "fbd5da914e86f1ca",
   "outputs": [
    {
     "name": "stdout",
     "output_type": "stream",
     "text": [
      "Files already downloaded and verified\n"
     ]
    },
    {
     "name": "stderr",
     "output_type": "stream",
     "text": [
      "/home/ariel/university/Internship/diffusion_venv/lib/python3.10/site-packages/torch/nn/modules/activation.py:1160: UserWarning: Converting mask without torch.bool dtype to bool; this will negatively affect performance. Prefer to use a boolean mask directly. (Triggered internally at ../aten/src/ATen/native/transformers/attention.cpp:150.)\n",
      "  return torch._native_multi_head_attention(\n"
     ]
    }
   ],
   "execution_count": 61
  },
  {
   "metadata": {
    "ExecuteTime": {
     "end_time": "2024-07-18T14:28:51.184207Z",
     "start_time": "2024-07-18T14:28:51.174976Z"
    }
   },
   "cell_type": "code",
   "source": [
    "from torch import optim\n",
    "from PIL import Image\n",
    "import cv2\n",
    "import torchvision\n",
    "\n",
    "def puttext(img, text, x, y):\n",
    "    cv2.putText(img, text, (x, y), cv2.FONT_HERSHEY_SIMPLEX, 1, (0, 0, 0), 4, cv2.LINE_AA)\n",
    "    cv2.putText(img, text, (x, y), cv2.FONT_HERSHEY_SIMPLEX, 1, (128, 128, 128), 2, cv2.LINE_AA)\n",
    "\n",
    "def typographic_atack(img, text):   \n",
    "    img = img.clone().cpu().numpy().transpose((1, 2, 0))\n",
    "    img = img - img.min()\n",
    "    img = img / img.max()\n",
    "    img = np.ascontiguousarray(img * 255, dtype=np.uint8)\n",
    "\n",
    "    puttext(img, text, 100, 150)\n",
    "    \n",
    "    img = Image.fromarray(img)\n",
    "    img = torchvision.transforms.ToTensor()(img)\n",
    "\n",
    "    return img.unsqueeze(0).cuda()\n",
    "\n",
    "\n",
    "def optimize_image(model, img, target_label, classifier, norm_coeff=0.01, lr=0.1, n_steps=100):\n",
    "    y_goal = torch.tensor([target_label]).cuda()\n",
    "    img = img.clone().cuda().unsqueeze(0)\n",
    "    residue = torch.zeros_like(img)\n",
    "    residue.requires_grad = True\n",
    "    optimizer = optim.Adam([residue], lr=lr)\n",
    "\n",
    "    for i in range(n_steps):\n",
    "        features = model.encode_image(img + residue).float()\n",
    "        features = features / features.norm(dim=-1, keepdim=True)\n",
    "\n",
    "        logits = classifier.predict(features, return_probs=True)\n",
    "\n",
    "        residue_norm = torch.norm(residue.view(len(residue), -1), dim=1).mean()\n",
    "\n",
    "        loss = torch.nn.functional.nll_loss(logits, y_goal) + norm_coeff * residue_norm\n",
    "        loss.backward()\n",
    "        residue.grad = residue.grad.sign()\n",
    "        optimizer.step()\n",
    "        residue.grad.zero_()\n",
    "\n",
    "        print(f\"iter: {i}, loss: {loss.item()}, residue_norm: {residue_norm.item()}\")\n",
    "\n",
    "    return (img + residue).detach()\n",
    "\n",
    "\n",
    "def pred_and_get_pcs(x):\n",
    "    with torch.no_grad():\n",
    "        features = model.encode_image(x)\n",
    "        features /= features.norm(dim=-1, keepdim=True)\n",
    "        pcs = (features.cpu() - mean) @ PCs\n",
    "        pred = classifier.predict(features)\n",
    "    return pcs, pred"
   ],
   "id": "9c54223ac55a871f",
   "outputs": [],
   "execution_count": 150
  },
  {
   "metadata": {
    "ExecuteTime": {
     "end_time": "2024-07-18T14:46:58.985650Z",
     "start_time": "2024-07-18T14:46:57.408104Z"
    }
   },
   "cell_type": "code",
   "source": [
    "img, gt_label = dataset[np.random.randint(len(dataset))]\n",
    "target_label = np.random.choice([x for x in range(len(dataset.classes)) if x != gt_label])\n",
    "\n",
    "adv_output = optimize_image(model, img, target_label, classifier, norm_coeff=0.05, lr=0.1, n_steps=100)\n",
    "\n",
    "typo_output = typographic_atack(img, dataset.classes[target_label])\n",
    "\n",
    "torchvision.utils.save_image(img, \"outputs/img.png\", normalize=True, scale_each=True)\n",
    "torchvision.utils.save_image(adv_output, \"outputs/adv.png\", normalize=True, scale_each=True)\n",
    "torchvision.utils.save_image(typo_output, \"outputs/typo.png\", normalize=True, scale_each=True)\n",
    "\n",
    "img_pcs, img_pred = pred_and_get_pcs(img.cuda().unsqueeze(0))\n",
    "typo_pcs, typo_pred = pred_and_get_pcs(typo_output)\n",
    "adv_pcs, adv_pred = pred_and_get_pcs(adv_output)\n",
    "print(f\"GT label: {dataset.classes[gt_label]}, adv_pred: {dataset.classes[adv_pred.item()]}, typo_pred: {dataset.classes[typo_pred.item()]}\")"
   ],
   "id": "d359b2ced81287d2",
   "outputs": [
    {
     "name": "stdout",
     "output_type": "stream",
     "text": [
      "iter: 0, loss: -0.490572065114975, residue_norm: 0.0\n",
      "iter: 1, loss: 1.4429049491882324, residue_norm: 38.79793167114258\n",
      "iter: 2, loss: 1.3671047687530518, residue_norm: 37.479366302490234\n",
      "iter: 3, loss: 0.6707103252410889, residue_norm: 23.621129989624023\n",
      "iter: 4, loss: 0.03775680065155029, residue_norm: 10.794745445251465\n",
      "iter: 5, loss: 0.5053325295448303, residue_norm: 20.19763946533203\n",
      "iter: 6, loss: 0.8416531682014465, residue_norm: 27.058265686035156\n",
      "iter: 7, loss: 0.9219424724578857, residue_norm: 28.739479064941406\n",
      "iter: 8, loss: 0.8201346397399902, residue_norm: 26.74000358581543\n",
      "iter: 9, loss: 0.5671854019165039, residue_norm: 21.71141815185547\n",
      "iter: 10, loss: 0.2718885540962219, residue_norm: 15.75605583190918\n",
      "iter: 11, loss: 0.17073577642440796, residue_norm: 13.65234375\n",
      "iter: 12, loss: 0.2875795364379883, residue_norm: 16.002708435058594\n",
      "iter: 13, loss: 0.3915850520133972, residue_norm: 18.134281158447266\n",
      "iter: 14, loss: 0.4189128875732422, residue_norm: 18.723922729492188\n",
      "iter: 15, loss: 0.3593405485153198, residue_norm: 17.537107467651367\n",
      "iter: 16, loss: 0.26104819774627686, residue_norm: 15.593315124511719\n",
      "iter: 17, loss: 0.2068408727645874, residue_norm: 14.500843048095703\n",
      "iter: 18, loss: 0.20526772737503052, residue_norm: 14.51024055480957\n",
      "iter: 19, loss: 0.21695780754089355, residue_norm: 14.725053787231445\n",
      "iter: 20, loss: 0.21809375286102295, residue_norm: 14.778406143188477\n",
      "iter: 21, loss: 0.19787198305130005, residue_norm: 14.353202819824219\n",
      "iter: 22, loss: 0.16578984260559082, residue_norm: 13.705153465270996\n",
      "iter: 23, loss: 0.1629435420036316, residue_norm: 13.684043884277344\n",
      "iter: 24, loss: 0.1728816032409668, residue_norm: 13.830801963806152\n",
      "iter: 25, loss: 0.1712561845779419, residue_norm: 13.895657539367676\n",
      "iter: 26, loss: 0.1514204740524292, residue_norm: 13.456637382507324\n",
      "iter: 27, loss: 0.12049221992492676, residue_norm: 12.848422050476074\n",
      "iter: 28, loss: 0.1120571494102478, residue_norm: 12.665629386901855\n",
      "iter: 29, loss: 0.12697142362594604, residue_norm: 12.994033813476562\n",
      "iter: 30, loss: 0.14400339126586914, residue_norm: 13.30040454864502\n",
      "iter: 31, loss: 0.13842302560806274, residue_norm: 13.233936309814453\n",
      "iter: 32, loss: 0.12238651514053345, residue_norm: 12.89631175994873\n",
      "iter: 33, loss: 0.10757303237915039, residue_norm: 12.642772674560547\n",
      "iter: 34, loss: 0.10687226057052612, residue_norm: 12.29677963256836\n",
      "iter: 35, loss: 0.12771165370941162, residue_norm: 12.925910949707031\n",
      "iter: 36, loss: 0.16113078594207764, residue_norm: 13.673186302185059\n",
      "iter: 37, loss: 0.1704263687133789, residue_norm: 13.893034934997559\n",
      "iter: 38, loss: 0.15670561790466309, residue_norm: 13.607743263244629\n",
      "iter: 39, loss: 0.12728089094161987, residue_norm: 13.061006546020508\n",
      "iter: 40, loss: 0.11775314807891846, residue_norm: 12.7363862991333\n",
      "iter: 41, loss: 0.14149165153503418, residue_norm: 13.12700080871582\n",
      "iter: 42, loss: 0.17197251319885254, residue_norm: 13.864354133605957\n",
      "iter: 43, loss: 0.18188375234603882, residue_norm: 14.134054183959961\n",
      "iter: 44, loss: 0.1688215732574463, residue_norm: 13.880565643310547\n",
      "iter: 45, loss: 0.14716744422912598, residue_norm: 13.466012954711914\n",
      "iter: 46, loss: 0.12555980682373047, residue_norm: 13.042322158813477\n",
      "iter: 47, loss: 0.11454874277114868, residue_norm: 12.787702560424805\n",
      "iter: 48, loss: 0.12555164098739624, residue_norm: 12.988720893859863\n",
      "iter: 49, loss: 0.14844858646392822, residue_norm: 13.368474960327148\n",
      "iter: 50, loss: 0.16522353887557983, residue_norm: 13.773743629455566\n",
      "iter: 51, loss: 0.17234539985656738, residue_norm: 13.94552230834961\n",
      "iter: 52, loss: 0.16834938526153564, residue_norm: 13.905378341674805\n",
      "iter: 53, loss: 0.16078847646713257, residue_norm: 13.794418334960938\n",
      "iter: 54, loss: 0.14764678478240967, residue_norm: 13.535077095031738\n",
      "iter: 55, loss: 0.13675659894943237, residue_norm: 13.26584243774414\n",
      "iter: 56, loss: 0.13704031705856323, residue_norm: 13.20006275177002\n",
      "iter: 57, loss: 0.13548660278320312, residue_norm: 13.22529411315918\n",
      "iter: 58, loss: 0.14015889167785645, residue_norm: 13.312708854675293\n",
      "iter: 59, loss: 0.15092867612838745, residue_norm: 13.510499000549316\n",
      "iter: 60, loss: 0.1591559648513794, residue_norm: 13.747803688049316\n",
      "iter: 61, loss: 0.15477412939071655, residue_norm: 13.6432466506958\n",
      "iter: 62, loss: 0.14782249927520752, residue_norm: 13.470584869384766\n",
      "iter: 63, loss: 0.1424717903137207, residue_norm: 13.399155616760254\n",
      "iter: 64, loss: 0.1471879482269287, residue_norm: 13.400505065917969\n",
      "iter: 65, loss: 0.15155595541000366, residue_norm: 13.512372970581055\n",
      "iter: 66, loss: 0.17142653465270996, residue_norm: 13.813003540039062\n",
      "iter: 67, loss: 0.18114912509918213, residue_norm: 14.140572547912598\n",
      "iter: 68, loss: 0.17494559288024902, residue_norm: 14.043160438537598\n",
      "iter: 69, loss: 0.1577768325805664, residue_norm: 13.721505165100098\n",
      "iter: 70, loss: 0.1422417163848877, residue_norm: 13.405293464660645\n",
      "iter: 71, loss: 0.13486289978027344, residue_norm: 13.25341796875\n",
      "iter: 72, loss: 0.14014917612075806, residue_norm: 13.299615859985352\n",
      "iter: 73, loss: 0.15439152717590332, residue_norm: 13.584270477294922\n",
      "iter: 74, loss: 0.16575366258621216, residue_norm: 13.787392616271973\n",
      "iter: 75, loss: 0.18283087015151978, residue_norm: 14.156898498535156\n",
      "iter: 76, loss: 0.18806082010269165, residue_norm: 14.357080459594727\n",
      "iter: 77, loss: 0.18300187587738037, residue_norm: 14.16286849975586\n",
      "iter: 78, loss: 0.17358249425888062, residue_norm: 14.065278053283691\n",
      "iter: 79, loss: 0.16277438402175903, residue_norm: 13.785261154174805\n",
      "iter: 80, loss: 0.1606653332710266, residue_norm: 13.750758171081543\n",
      "iter: 81, loss: 0.1771337389945984, residue_norm: 13.946223258972168\n",
      "iter: 82, loss: 0.1863466501235962, residue_norm: 14.250797271728516\n",
      "iter: 83, loss: 0.187885582447052, residue_norm: 14.273723602294922\n",
      "iter: 84, loss: 0.18071764707565308, residue_norm: 14.128629684448242\n",
      "iter: 85, loss: 0.18555748462677002, residue_norm: 14.142108917236328\n",
      "iter: 86, loss: 0.1960582137107849, residue_norm: 14.410116195678711\n",
      "iter: 87, loss: 0.1976984739303589, residue_norm: 14.515830993652344\n",
      "iter: 88, loss: 0.19062364101409912, residue_norm: 14.421751022338867\n",
      "iter: 89, loss: 0.1803460717201233, residue_norm: 14.158406257629395\n",
      "iter: 90, loss: 0.16788697242736816, residue_norm: 13.947038650512695\n",
      "iter: 91, loss: 0.16211628913879395, residue_norm: 13.796905517578125\n",
      "iter: 92, loss: 0.16752630472183228, residue_norm: 13.930524826049805\n",
      "iter: 93, loss: 0.18104392290115356, residue_norm: 14.120504379272461\n",
      "iter: 94, loss: 0.19736522436141968, residue_norm: 14.404553413391113\n",
      "iter: 95, loss: 0.2036590576171875, residue_norm: 14.645474433898926\n",
      "iter: 96, loss: 0.19029730558395386, residue_norm: 14.428081512451172\n",
      "iter: 97, loss: 0.16885370016098022, residue_norm: 14.008428573608398\n",
      "iter: 98, loss: 0.15132766962051392, residue_norm: 13.603073120117188\n",
      "iter: 99, loss: 0.1557772159576416, residue_norm: 13.530010223388672\n",
      "GT label: cat, adv_pred: dog, typo_pred: dog\n"
     ]
    }
   ],
   "execution_count": 154
  },
  {
   "metadata": {
    "ExecuteTime": {
     "end_time": "2024-07-18T14:47:25.723987Z",
     "start_time": "2024-07-18T14:47:25.438911Z"
    }
   },
   "cell_type": "code",
   "source": [
    "cmap = plt.get_cmap('tab10')\n",
    "colors = [cmap(i) for i in range(len(dataset.classes))]\n",
    "fig = plt.figure(1, figsize=(8, 5))\n",
    "ax = fig.add_subplot(111)\n",
    "pc_1 = 0\n",
    "pc_2 = 1\n",
    "for label in np.unique(labels):\n",
    "    idx = labels == label\n",
    "    ax.scatter(text_pcs[idx, pc_1], text_pcs[idx, pc_2],\n",
    "               color=colors[label], label=dataset.classes[label], s=5, alpha=0.5)\n",
    "    ax.scatter(image_pcs[idx, pc_1], image_pcs[idx, pc_2],\n",
    "               color=colors[label], s=5, alpha=0.5)\n",
    "    \n",
    "ax.scatter(img_pcs[:, pc_1], img_pcs[:, pc_2],\n",
    "   color='r', s=60, alpha=1, marker='x', label='img')\n",
    "\n",
    "ax.scatter(adv_pcs[:, pc_1], adv_pcs[:, pc_2],\n",
    "   color='b', s=60, alpha=1, marker='x', label='adversarial')\n",
    "\n",
    "ax.scatter(typo_pcs[-1:, pc_1], typo_pcs[-1:, pc_2],\n",
    "   color='g', s=60, alpha=1, marker='x', label='typographic')\n",
    "    \n",
    "ax.legend(bbox_to_anchor=(1.05, 1), loc='upper left')\n",
    "plt.tight_layout()\n",
    "plt.savefig(\"outputs/fig.png\")\n",
    "plt.show()\n",
    "plt.clf()\n"
   ],
   "id": "ad9d025863689fda",
   "outputs": [
    {
     "data": {
      "text/plain": [
       "<Figure size 800x500 with 1 Axes>"
      ],
      "image/png": "[encoded data removed]"
     },
     "metadata": {},
     "output_type": "display_data"
    },
    {
     "data": {
      "text/plain": [
       "<Figure size 640x480 with 0 Axes>"
      ]
     },
     "metadata": {},
     "output_type": "display_data"
    }
   ],
   "execution_count": 155
  },
  {
   "metadata": {
    "ExecuteTime": {
     "end_time": "2024-07-18T14:04:13.851711Z",
     "start_time": "2024-07-18T14:04:13.847900Z"
    }
   },
   "cell_type": "code",
   "source": [
    "labels\n",
    "\n"
   ],
   "id": "1bf0b49cf28d111d",
   "outputs": [
    {
     "data": {
      "text/plain": [
       "array([0, 0, 1, 0, 1, 0, 0, 0, 0, 0, 0, 0, 1, 0, 1, 0, 1, 0, 1, 1, 1, 0,\n",
       "       0, 1, 0, 0, 1, 0, 0, 0, 1, 1, 1, 1, 1, 0, 0, 1, 0, 0, 0, 0, 1, 1,\n",
       "       0, 0, 1, 1, 1, 0, 1, 1, 0, 1, 0, 1, 1, 0, 0, 1, 1, 1, 0, 1, 0, 1,\n",
       "       1, 1, 0, 0, 0, 1, 1, 0, 0, 1, 0, 0, 0, 0, 1, 1, 0, 1, 1, 1, 0, 1,\n",
       "       0, 1, 0, 1, 0, 0, 0, 1, 0, 1, 1, 1, 0, 0, 1, 1, 0, 0, 0, 1, 0, 0,\n",
       "       1, 1, 1, 1, 0, 1, 0, 1, 1, 0, 0, 1, 1, 1, 0, 0, 1, 0, 0, 0, 0, 0,\n",
       "       1, 0, 1, 1, 0, 1, 0, 0, 1, 1, 0, 1, 0, 0, 1, 0, 0, 0, 0, 0, 0, 1,\n",
       "       1, 0, 1, 0, 0, 0, 0, 0, 0, 0, 0, 0, 0, 1, 0, 1, 1, 1, 1, 1, 0, 1,\n",
       "       1, 0, 0, 0, 0, 0, 1, 1, 1, 1, 1, 0, 0, 1, 1, 0, 1, 0, 0, 1, 1, 1,\n",
       "       1, 1, 1, 1, 1, 1, 0, 0, 1, 1, 1, 0, 1, 1, 1, 1, 0, 1, 1, 1, 0, 0,\n",
       "       0, 0, 0, 1, 0, 1, 0, 0, 1, 1, 1, 1, 1, 1, 0, 1, 1, 0, 1, 0, 0, 1,\n",
       "       1, 1, 1, 0, 1, 0, 0, 0, 0, 0, 1, 0, 1, 0, 0, 0, 1, 1, 1, 0, 1, 0,\n",
       "       1, 1, 1, 1, 0, 0, 0, 1, 1, 0, 0, 0, 0, 0, 0, 0, 0, 0, 1, 0, 0, 1,\n",
       "       1, 0, 1, 0, 1, 0, 0, 1, 0, 0, 1, 0, 0, 0, 1, 0, 1, 1, 0, 1, 0, 1,\n",
       "       1, 1, 0, 0, 0, 0, 1, 0, 0, 0, 1, 1, 1, 0, 1, 1, 1, 1, 1, 0, 1, 0,\n",
       "       1, 1, 0, 1, 0, 1, 1, 0, 0, 1, 0, 0, 1, 1, 1, 0, 0, 0, 1, 0, 0, 1,\n",
       "       0, 0, 0, 1, 0, 1, 0, 0, 1, 1, 1, 1, 0, 1, 0, 1, 1, 1, 0, 1, 0, 1,\n",
       "       0, 1, 1, 0, 0, 1, 0, 1, 1, 0, 1, 1, 0, 1, 0, 0, 1, 0, 1, 1, 1, 0,\n",
       "       1, 0, 1, 1, 0, 0, 1, 1, 1, 0, 1, 0, 1, 0, 0, 1, 0, 0, 1, 1, 0, 0,\n",
       "       0, 1, 0, 0, 0, 0, 0, 1, 1, 1, 0, 0, 1, 1, 1, 0, 0, 0, 1, 0, 0, 1,\n",
       "       0, 0, 1, 0, 1, 0, 0, 1, 0, 0, 1, 0, 1, 1, 1, 0, 0, 1, 1, 1, 1, 1,\n",
       "       0, 1, 0, 0, 0, 0, 1, 1, 1, 0, 1, 0, 1, 0, 0, 1, 0, 1, 1, 0, 0, 1,\n",
       "       0, 0, 0, 0, 1, 1, 1, 0, 0, 1, 0, 1, 1, 0, 0, 0, 1, 1, 0, 1, 0, 1,\n",
       "       1, 1, 1, 0, 0, 1, 0, 1, 1, 0, 0, 1, 1, 1, 1, 1, 1, 0, 0, 0, 0, 1,\n",
       "       1, 0, 1, 1, 1, 0, 1, 1, 1, 0, 0, 1, 0, 0, 0, 0, 1, 1, 0, 0, 0, 1,\n",
       "       0, 1, 1, 0, 0, 1, 0, 0, 0, 0, 1, 0, 0, 0, 0, 0, 0, 1, 0, 0, 1, 0,\n",
       "       0, 1, 0, 1, 0, 0, 1, 0, 1, 1, 0, 0, 1, 0, 1, 1, 1, 1, 0, 1, 1, 1,\n",
       "       1, 1, 0, 1, 0, 0, 0, 1, 1, 1, 0, 1, 1, 0, 1, 1, 0, 1, 0, 0, 0, 0,\n",
       "       0, 0, 1, 1, 0, 0, 0, 0, 1, 1, 1, 0, 0, 0, 0, 1, 0, 1, 0, 1, 1, 1,\n",
       "       1, 0, 0, 0, 1, 1, 1, 1, 0, 1, 0, 1, 1, 0, 0, 1, 1, 0, 1, 1, 1, 1,\n",
       "       0, 1, 0, 0, 1, 1, 1, 0, 1, 0, 1, 0, 0, 1, 0, 1, 1, 0, 1, 1, 1, 1,\n",
       "       0, 0, 1, 0, 0, 1, 0, 1, 1, 1, 1, 0, 0, 0, 1, 0, 0, 0, 1, 1, 0, 0,\n",
       "       0, 1, 0, 1, 1, 0, 1, 0, 1, 0, 1, 0, 0, 0, 0, 1, 1, 1, 0, 0, 1, 1,\n",
       "       1, 1, 1, 1, 0, 1, 0, 0, 1, 0, 1, 0, 1, 1, 0, 1, 0, 1, 0, 1, 0, 1,\n",
       "       0, 1, 1, 0, 1, 0, 0, 1, 0, 0, 0, 1, 0, 0, 0, 0, 1, 1, 0, 1, 0, 0,\n",
       "       1, 0, 1, 1, 1, 0, 0, 0, 1, 0, 0, 0, 1, 0, 1, 1, 0, 1, 0, 1, 0, 1,\n",
       "       1, 0, 0, 0, 1, 0, 1, 0, 0, 1, 1, 1, 1, 1, 1, 0, 1, 1, 0, 0, 1, 1,\n",
       "       1, 0, 0, 1, 0, 1, 0, 1, 0, 1, 0, 0, 0, 1, 1, 0, 1, 1, 0, 0, 1, 1,\n",
       "       1, 0, 1, 0, 0, 0, 1, 1, 1, 0, 0, 0, 0, 1, 1, 0, 1, 1, 0, 0, 0, 0,\n",
       "       0, 0, 1, 1, 0, 1, 1, 1, 1, 0, 1, 1, 1, 0, 1, 1, 0, 1, 0, 0, 1, 1,\n",
       "       1, 0, 0, 0, 0, 1, 0, 0, 0, 0, 0, 0, 1, 0, 1, 1, 0, 0, 1, 0, 0, 1,\n",
       "       0, 1, 0, 1, 1, 1, 0, 0, 0, 1, 1, 1, 0, 1, 0, 0, 1, 1, 1, 0, 1, 1,\n",
       "       0, 1, 1, 1, 1, 1, 1, 1, 0, 1, 1, 0, 1, 1, 1, 1, 1, 0, 0, 1, 0, 0,\n",
       "       1, 1, 1, 1, 0, 0, 0, 0, 1, 0, 1, 1, 1, 1, 0, 0, 0, 0, 1, 1, 1, 1,\n",
       "       0, 1, 1, 0, 1, 1, 0, 0, 0, 0, 0, 0, 1, 1, 1, 0, 1, 0, 0, 0, 0, 1,\n",
       "       0, 1, 1, 1, 1, 1, 0, 0, 1, 0])"
      ]
     },
     "execution_count": 65,
     "metadata": {},
     "output_type": "execute_result"
    }
   ],
   "execution_count": 65
  },
  {
   "metadata": {
    "ExecuteTime": {
     "end_time": "2024-07-18T14:04:13.854343Z",
     "start_time": "2024-07-18T14:04:13.852716Z"
    }
   },
   "cell_type": "code",
   "source": "",
   "id": "98a29f5b60f0f29a",
   "outputs": [],
   "execution_count": 65
  }
 ],
 "metadata": {
  "kernelspec": {
   "display_name": "Python 3",
   "language": "python",
   "name": "python3"
  },
  "language_info": {
   "codemirror_mode": {
    "name": "ipython",
    "version": 2
   },
   "file_extension": ".py",
   "mimetype": "text/x-python",
   "name": "python",
   "nbconvert_exporter": "python",
   "pygments_lexer": "ipython2",
   "version": "2.7.6"
  }
 },
 "nbformat": 4,
 "nbformat_minor": 5
}
